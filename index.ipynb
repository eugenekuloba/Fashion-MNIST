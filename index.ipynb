{
 "cells": [
  {
   "cell_type": "code",
   "execution_count": 3,
   "metadata": {},
   "outputs": [],
   "source": [
    "# import necessary modules\n",
    "import keras\n",
    "import keras.backend as K\n",
    "from keras.layers import Dense,Conv2D,Input,MaxPooling2D,Flatten\n",
    "from keras.models import Model\n",
    "from keras.datasets import fashion_mnist\n",
    "from keras.callbacks import ModelCheckpoint"
   ]
  },
  {
   "cell_type": "code",
   "execution_count": 4,
   "metadata": {},
   "outputs": [],
   "source": [
    "# setup parameters\n",
    "batch_size = 128\n",
    "nb_class = 10\n",
    "nb_epochs = 10\n",
    "img_h,img_w = 28,28"
   ]
  },
  {
   "cell_type": "code",
   "execution_count": 5,
   "metadata": {},
   "outputs": [
    {
     "name": "stdout",
     "output_type": "stream",
     "text": [
      "Downloading data from https://storage.googleapis.com/tensorflow/tf-keras-datasets/train-labels-idx1-ubyte.gz\n",
      "29515/29515 [==============================] - 0s 2us/step\n",
      "Downloading data from https://storage.googleapis.com/tensorflow/tf-keras-datasets/train-images-idx3-ubyte.gz\n",
      "26421880/26421880 [==============================] - 10s 0us/step\n",
      "Downloading data from https://storage.googleapis.com/tensorflow/tf-keras-datasets/t10k-labels-idx1-ubyte.gz\n",
      "5148/5148 [==============================] - 0s 0us/step\n",
      "Downloading data from https://storage.googleapis.com/tensorflow/tf-keras-datasets/t10k-images-idx3-ubyte.gz\n",
      "4422102/4422102 [==============================] - 2s 0us/step\n",
      "Nb Train: 60000 Nb test: 10000\n"
     ]
    }
   ],
   "source": [
    "# download and prepare dataset for training and validation\n",
    "def get_dataset():\n",
    "    \"\"\"\n",
    "    Return processed fashion-mnist dataset\n",
    "    \"\"\"\n",
    "    # load mnist dataset\n",
    "    (x_train,y_train),(x_test,y_test) = fashion_mnist.load_data()\n",
    "\n",
    "    # test and train datasets\n",
    "    print(\"Nb Train:\",x_train.shape[0],\"Nb test:\", x_test.shape[0])\n",
    "    x_train = x_train.reshape(x_train.shape[0],img_h,img_w,1)\n",
    "    x_test = x_test.reshape(x_test.shape[0],img_h,img_w,1)\n",
    "    in_shape = (img_h,img_w,1)\n",
    "\n",
    "    # normalize inputs\n",
    "    x_train = x_train.astype('float32')\n",
    "    x_test = x_test.astype('float32')\n",
    "    x_train /= 255.0\n",
    "    x_test /= 255.0\n",
    "\n",
    "    # convert to one hot vectors\n",
    "    y_train = keras.utils.to_categorical(y_train,nb_class)\n",
    "    y_test = keras.utils.to_categorical(y_test,nb_class)\n",
    "    \n",
    "    return x_train,x_test,y_train,y_test\n",
    "\n",
    "x_train,y_train,x_test,y_test = get_dataset()"
   ]
  },
  {
   "cell_type": "markdown",
   "metadata": {},
   "source": [
    "##### **Build Model**"
   ]
  },
  {
   "cell_type": "code",
   "execution_count": 6,
   "metadata": {},
   "outputs": [],
   "source": [
    "def conv3x3(input_x,nb_filters):\n",
    "    \"\"\"\n",
    "    Wrapper around convolution layer\n",
    "    Inputs:\n",
    "        input_x:input layer/tensor\n",
    "        nb_filter:Number of filters for convolution\n",
    "    \"\"\"\n",
    "    return Conv2D(nb_filters,kernel_size=(3,3),use_bias=False,\n",
    "                  activation='relu',padding='same')(input_x)\n"
   ]
  },
  {
   "cell_type": "code",
   "execution_count": 7,
   "metadata": {},
   "outputs": [],
   "source": [
    "def create_model(img_h=28,img_w=28):\n",
    "    \"\"\"\n",
    "    Creates a CNN model for training\n",
    "    Inputs:\n",
    "        img_h:input image height\n",
    "        img_w:imput image width\n",
    "    Returns:\n",
    "        model structure\n",
    "    \"\"\"\n",
    "    inputs = Input(shape=(img_h,img_w,1))\n",
    "\n",
    "    x = conv3x3(inputs,32)\n",
    "    x = conv3x3(x,32)\n",
    "    x = MaxPooling2D(pool_size=(2,2))(x)\n",
    "    x = conv3x3(x,64)\n",
    "    x = conv3x3(x,64)\n",
    "    x = MaxPooling2D(pool_size=(2,2))(x)\n",
    "    x = Flatten()(x)\n",
    "    x = Dense(128,activation='relu')(x)\n",
    "    preds = Dense(nb_class,activation='softmax')(x)\n",
    "    model = Model(inputs=inputs,outputs=preds)\n",
    "    print(model.summary())\n",
    "    return model\n",
    "    "
   ]
  },
  {
   "cell_type": "code",
   "execution_count": 8,
   "metadata": {},
   "outputs": [
    {
     "name": "stdout",
     "output_type": "stream",
     "text": [
      "Model: \"model\"\n",
      "_________________________________________________________________\n",
      " Layer (type)                Output Shape              Param #   \n",
      "=================================================================\n",
      " input_1 (InputLayer)        [(None, 28, 28, 1)]       0         \n",
      "                                                                 \n",
      " conv2d (Conv2D)             (None, 28, 28, 32)        288       \n",
      "                                                                 \n",
      " conv2d_1 (Conv2D)           (None, 28, 28, 32)        9216      \n",
      "                                                                 \n",
      " max_pooling2d (MaxPooling2  (None, 14, 14, 32)        0         \n",
      " D)                                                              \n",
      "                                                                 \n",
      " conv2d_2 (Conv2D)           (None, 14, 14, 64)        18432     \n",
      "                                                                 \n",
      " conv2d_3 (Conv2D)           (None, 14, 14, 64)        36864     \n",
      "                                                                 \n",
      " max_pooling2d_1 (MaxPoolin  (None, 7, 7, 64)          0         \n",
      " g2D)                                                            \n",
      "                                                                 \n",
      " flatten (Flatten)           (None, 3136)              0         \n",
      "                                                                 \n",
      " dense (Dense)               (None, 128)               401536    \n",
      "                                                                 \n",
      " dense_1 (Dense)             (None, 10)                1290      \n",
      "                                                                 \n",
      "=================================================================\n",
      "Total params: 467626 (1.78 MB)\n",
      "Trainable params: 467626 (1.78 MB)\n",
      "Non-trainable params: 0 (0.00 Byte)\n",
      "_________________________________________________________________\n",
      "None\n"
     ]
    }
   ],
   "source": [
    "# instatiate model\n",
    "model = create_model()"
   ]
  },
  {
   "cell_type": "code",
   "execution_count": 9,
   "metadata": {},
   "outputs": [],
   "source": [
    "# set up optimizer, loss function and metrics\n",
    "model.compile(loss=keras.losses.categorical_crossentropy,\n",
    "              optimizer = keras.optimizers.Adam(),\n",
    "              metrics = ['accuracy'])"
   ]
  },
  {
   "cell_type": "code",
   "execution_count": 10,
   "metadata": {},
   "outputs": [],
   "source": [
    "# save model after every epoch\n",
    "callback = ModelCheckpoint('mnist_cnn.h5')"
   ]
  },
  {
   "cell_type": "code",
   "execution_count": 11,
   "metadata": {},
   "outputs": [
    {
     "name": "stderr",
     "output_type": "stream",
     "text": [
      "2023-10-09 14:57:26.038693: W tensorflow/tsl/framework/cpu_allocator_impl.cc:83] Allocation of 188160000 exceeds 10% of free system memory.\n",
      "2023-10-09 14:57:26.262517: W tensorflow/tsl/framework/cpu_allocator_impl.cc:83] Allocation of 31360000 exceeds 10% of free system memory.\n"
     ]
    },
    {
     "ename": "ValueError",
     "evalue": "Data cardinality is ambiguous:\n  x sizes: 60000\n  y sizes: 10000\nMake sure all arrays contain the same number of samples.",
     "output_type": "error",
     "traceback": [
      "\u001b[0;31m---------------------------------------------------------------------------\u001b[0m",
      "\u001b[0;31mValueError\u001b[0m                                Traceback (most recent call last)",
      "\u001b[1;32m/home/eugene/Desktop/projects/fashion-mnist/Fashion-MNIST/index.ipynb Cell 10\u001b[0m line \u001b[0;36m2\n\u001b[1;32m      <a href='vscode-notebook-cell:/home/eugene/Desktop/projects/fashion-mnist/Fashion-MNIST/index.ipynb#X12sZmlsZQ%3D%3D?line=0'>1</a>\u001b[0m \u001b[39m# begin training model\u001b[39;00m\n\u001b[0;32m----> <a href='vscode-notebook-cell:/home/eugene/Desktop/projects/fashion-mnist/Fashion-MNIST/index.ipynb#X12sZmlsZQ%3D%3D?line=1'>2</a>\u001b[0m model\u001b[39m.\u001b[39;49mfit(x_train,y_train,\n\u001b[1;32m      <a href='vscode-notebook-cell:/home/eugene/Desktop/projects/fashion-mnist/Fashion-MNIST/index.ipynb#X12sZmlsZQ%3D%3D?line=2'>3</a>\u001b[0m           batch_size \u001b[39m=\u001b[39;49m batch_size,\n\u001b[1;32m      <a href='vscode-notebook-cell:/home/eugene/Desktop/projects/fashion-mnist/Fashion-MNIST/index.ipynb#X12sZmlsZQ%3D%3D?line=3'>4</a>\u001b[0m           epochs \u001b[39m=\u001b[39;49m nb_epochs,\n\u001b[1;32m      <a href='vscode-notebook-cell:/home/eugene/Desktop/projects/fashion-mnist/Fashion-MNIST/index.ipynb#X12sZmlsZQ%3D%3D?line=4'>5</a>\u001b[0m           verbose \u001b[39m=\u001b[39;49m \u001b[39m1\u001b[39;49m,\n\u001b[1;32m      <a href='vscode-notebook-cell:/home/eugene/Desktop/projects/fashion-mnist/Fashion-MNIST/index.ipynb#X12sZmlsZQ%3D%3D?line=5'>6</a>\u001b[0m           validation_data \u001b[39m=\u001b[39;49m (x_test,y_test),\n\u001b[1;32m      <a href='vscode-notebook-cell:/home/eugene/Desktop/projects/fashion-mnist/Fashion-MNIST/index.ipynb#X12sZmlsZQ%3D%3D?line=6'>7</a>\u001b[0m           callbacks \u001b[39m=\u001b[39;49m [callback])\n",
      "File \u001b[0;32m~/Desktop/projects/fashion-mnist/Fashion-MNIST/env/lib/python3.10/site-packages/keras/src/utils/traceback_utils.py:70\u001b[0m, in \u001b[0;36mfilter_traceback.<locals>.error_handler\u001b[0;34m(*args, **kwargs)\u001b[0m\n\u001b[1;32m     67\u001b[0m     filtered_tb \u001b[39m=\u001b[39m _process_traceback_frames(e\u001b[39m.\u001b[39m__traceback__)\n\u001b[1;32m     68\u001b[0m     \u001b[39m# To get the full stack trace, call:\u001b[39;00m\n\u001b[1;32m     69\u001b[0m     \u001b[39m# `tf.debugging.disable_traceback_filtering()`\u001b[39;00m\n\u001b[0;32m---> 70\u001b[0m     \u001b[39mraise\u001b[39;00m e\u001b[39m.\u001b[39mwith_traceback(filtered_tb) \u001b[39mfrom\u001b[39;00m \u001b[39mNone\u001b[39;00m\n\u001b[1;32m     71\u001b[0m \u001b[39mfinally\u001b[39;00m:\n\u001b[1;32m     72\u001b[0m     \u001b[39mdel\u001b[39;00m filtered_tb\n",
      "File \u001b[0;32m~/Desktop/projects/fashion-mnist/Fashion-MNIST/env/lib/python3.10/site-packages/keras/src/engine/data_adapter.py:1960\u001b[0m, in \u001b[0;36m_check_data_cardinality\u001b[0;34m(data)\u001b[0m\n\u001b[1;32m   1953\u001b[0m     msg \u001b[39m+\u001b[39m\u001b[39m=\u001b[39m \u001b[39m\"\u001b[39m\u001b[39m  \u001b[39m\u001b[39m{}\u001b[39;00m\u001b[39m sizes: \u001b[39m\u001b[39m{}\u001b[39;00m\u001b[39m\\n\u001b[39;00m\u001b[39m\"\u001b[39m\u001b[39m.\u001b[39mformat(\n\u001b[1;32m   1954\u001b[0m         label,\n\u001b[1;32m   1955\u001b[0m         \u001b[39m\"\u001b[39m\u001b[39m, \u001b[39m\u001b[39m\"\u001b[39m\u001b[39m.\u001b[39mjoin(\n\u001b[1;32m   1956\u001b[0m             \u001b[39mstr\u001b[39m(i\u001b[39m.\u001b[39mshape[\u001b[39m0\u001b[39m]) \u001b[39mfor\u001b[39;00m i \u001b[39min\u001b[39;00m tf\u001b[39m.\u001b[39mnest\u001b[39m.\u001b[39mflatten(single_data)\n\u001b[1;32m   1957\u001b[0m         ),\n\u001b[1;32m   1958\u001b[0m     )\n\u001b[1;32m   1959\u001b[0m msg \u001b[39m+\u001b[39m\u001b[39m=\u001b[39m \u001b[39m\"\u001b[39m\u001b[39mMake sure all arrays contain the same number of samples.\u001b[39m\u001b[39m\"\u001b[39m\n\u001b[0;32m-> 1960\u001b[0m \u001b[39mraise\u001b[39;00m \u001b[39mValueError\u001b[39;00m(msg)\n",
      "\u001b[0;31mValueError\u001b[0m: Data cardinality is ambiguous:\n  x sizes: 60000\n  y sizes: 10000\nMake sure all arrays contain the same number of samples."
     ]
    }
   ],
   "source": [
    "# begin training model\n",
    "model.fit(x_train,y_train,\n",
    "          batch_size = batch_size,\n",
    "          epochs = nb_epochs,\n",
    "          verbose = 1,\n",
    "          validation_data = (x_test,y_test),\n",
    "          callbacks = [callback])"
   ]
  },
  {
   "cell_type": "code",
   "execution_count": null,
   "metadata": {},
   "outputs": [],
   "source": []
  }
 ],
 "metadata": {
  "kernelspec": {
   "display_name": "env",
   "language": "python",
   "name": "python3"
  },
  "language_info": {
   "codemirror_mode": {
    "name": "ipython",
    "version": 3
   },
   "file_extension": ".py",
   "mimetype": "text/x-python",
   "name": "python",
   "nbconvert_exporter": "python",
   "pygments_lexer": "ipython3",
   "version": "3.10.12"
  }
 },
 "nbformat": 4,
 "nbformat_minor": 2
}
